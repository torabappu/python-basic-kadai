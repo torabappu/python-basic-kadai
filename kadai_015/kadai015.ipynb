{
  "nbformat": 4,
  "nbformat_minor": 0,
  "metadata": {
    "colab": {
      "provenance": []
    },
    "kernelspec": {
      "name": "python3",
      "display_name": "Python 3"
    },
    "language_info": {
      "name": "python"
    }
  },
  "cells": [
    {
      "cell_type": "code",
      "execution_count": 3,
      "metadata": {
        "colab": {
          "base_uri": "https://localhost:8080/"
        },
        "id": "ne_8lkhkRM6Z",
        "outputId": "32a197d7-535d-4640-f5cf-abbef39f91c5"
      },
      "outputs": [
        {
          "output_type": "stream",
          "name": "stdout",
          "text": [
            "Takuya 29\n"
          ]
        }
      ],
      "source": [
        "class Human():\n",
        "  def __init__ (self,name,age):\n",
        "    self.age = age\n",
        "    self.name = name\n",
        "\n",
        "  def printinfo(self):\n",
        "    print(self.name,self.age)\n",
        "\n",
        "person = Human(\"Takuya\",29)\n",
        "\n",
        "person.printinfo()\n"
      ]
    }
  ]
}