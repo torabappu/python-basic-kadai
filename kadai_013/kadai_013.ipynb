{
  "nbformat": 4,
  "nbformat_minor": 0,
  "metadata": {
    "colab": {
      "provenance": []
    },
    "kernelspec": {
      "name": "python3",
      "display_name": "Python 3"
    },
    "language_info": {
      "name": "python"
    }
  },
  "cells": [
    {
      "cell_type": "code",
      "execution_count": 1,
      "metadata": {
        "colab": {
          "base_uri": "https://localhost:8080/"
        },
        "id": "lOLc3t8mvQf_",
        "outputId": "b82282af-fddf-4639-a94c-ce195305a6d4"
      },
      "outputs": [
        {
          "output_type": "execute_result",
          "data": {
            "text/plain": [
              "110.00000000000001"
            ]
          },
          "metadata": {},
          "execution_count": 1
        }
      ],
      "source": [
        "def cal_tax(value: int,tax: int) -> int:\n",
        "  return value * (1+tax/100)"
      ]
    }
  ]
}