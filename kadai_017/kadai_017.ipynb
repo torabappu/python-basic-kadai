{
  "nbformat": 4,
  "nbformat_minor": 0,
  "metadata": {
    "colab": {
      "provenance": []
    },
    "kernelspec": {
      "name": "python3",
      "display_name": "Python 3"
    },
    "language_info": {
      "name": "python"
    }
  },
  "cells": [
    {
      "cell_type": "code",
      "execution_count": 9,
      "metadata": {
        "colab": {
          "base_uri": "https://localhost:8080/"
        },
        "id": "l4he4lI5lH8D",
        "outputId": "ee1bc961-bdb4-4001-9ace-cd43e70df683"
      },
      "outputs": [
        {
          "output_type": "stream",
          "name": "stdout",
          "text": [
            "卓也は大人ではありません\n",
            "莉奈は大人です。\n"
          ]
        }
      ],
      "source": [
        "class Human():\n",
        "  def __init__ (self, name, age):\n",
        "    self.name = name\n",
        "    self.age = age\n",
        "\n",
        "  def check_adult(self):\n",
        "    if self.age >= 20:\n",
        "      print(f\"{self.name}は大人です。\")\n",
        "    else:\n",
        "      print(f\"{self.name}は大人ではありません。\")\n",
        "\n",
        "person1 = Human(\"卓也\", 18)\n",
        "person2 = Human(\"莉奈\", 29)\n",
        "\n",
        "person_list = [person1, person2]\n",
        "\n",
        "for person in person_list:\n",
        "  person.check_adult()"
      ]
    }
  ]
}