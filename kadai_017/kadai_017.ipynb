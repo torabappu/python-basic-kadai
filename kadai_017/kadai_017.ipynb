{
  "nbformat": 4,
  "nbformat_minor": 0,
  "metadata": {
    "colab": {
      "provenance": []
    },
    "kernelspec": {
      "name": "python3",
      "display_name": "Python 3"
    },
    "language_info": {
      "name": "python"
    }
  },
  "cells": [
    {
      "cell_type": "code",
      "execution_count": 6,
      "metadata": {
        "colab": {
          "base_uri": "https://localhost:8080/"
        },
        "id": "l4he4lI5lH8D",
        "outputId": "31cb334b-b7d3-4e36-9c1b-5c91deab7cff"
      },
      "outputs": [
        {
          "output_type": "stream",
          "name": "stdout",
          "text": [
            "大人です\n",
            "大人です\n"
          ]
        }
      ],
      "source": [
        "class Human():\n",
        "  def __init__ (self, name, age):\n",
        "    self.name = name\n",
        "    self.age = age\n",
        "\n",
        "  def check_adult(self):\n",
        "    if self.age >= 20:\n",
        "      return \"大人です\"\n",
        "    return \"大人ではありません\"\n",
        "\n",
        "person1 = Human(\"卓也\", 20)\n",
        "person2 = Human(\"莉奈\", 29)\n",
        "\n",
        "print(person1.check_adult())\n",
        "print(person2.check_adult())"
      ]
    }
  ]
}